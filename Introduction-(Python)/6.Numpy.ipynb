{
 "cells": [
  {
   "cell_type": "code",
   "execution_count": 1,
   "metadata": {},
   "outputs": [],
   "source": [
    "import numpy as np"
   ]
  },
  {
   "cell_type": "code",
   "execution_count": 4,
   "metadata": {},
   "outputs": [
    {
     "name": "stdout",
     "output_type": "stream",
     "text": [
      "[15 35 25 10  5]\n",
      "<class 'numpy.ndarray'>\n"
     ]
    }
   ],
   "source": [
    "#create an unidimensional matrix\n",
    "mt = np.array([15,35,25,10,5])\n",
    "print(mt)\n",
    "print(type(mt))"
   ]
  },
  {
   "cell_type": "code",
   "execution_count": 6,
   "metadata": {},
   "outputs": [
    {
     "name": "stdout",
     "output_type": "stream",
     "text": [
      "[1. 3. 4.]\n",
      "<class 'numpy.ndarray'>\n",
      "[2 3 8]\n",
      "<class 'numpy.ndarray'>\n"
     ]
    }
   ],
   "source": [
    "#create the array with a specific type\n",
    "#create the array as a 64-bit float\n",
    "mtfloat = np.array([1,3,4],dtype=np.float64)\n",
    "print(mtfloat)\n",
    "print(type(mtfloat))\n",
    "\n",
    "#create the array as a 32-bit int\n",
    "mtint = np.array([2,3,8],dtype=np.int32)\n",
    "print(mtint)\n",
    "print(type(mtint))\n"
   ]
  },
  {
   "cell_type": "code",
   "execution_count": 10,
   "metadata": {},
   "outputs": [
    {
     "name": "stdout",
     "output_type": "stream",
     "text": [
      "[ 1.4      5.8     -5.9     45.98     3.99999]\n",
      "[ 1  5 -5 45  3]\n"
     ]
    }
   ],
   "source": [
    "#change array type\n",
    "#we can transform array data types\n",
    "mtnew = np.array([1.4, 5.8, -5.9, 45.98, 3.99999])\n",
    "print(mtnew)\n",
    "\n",
    "#when we transform from float to int the values are truncated\n",
    "mtnewint = mtnew.astype(np.int32)\n",
    "print(mtnewint)"
   ]
  },
  {
   "cell_type": "code",
   "execution_count": 11,
   "metadata": {},
   "outputs": [
    {
     "name": "stdout",
     "output_type": "stream",
     "text": [
      "[1 2 3 4 5]\n",
      "[1. 2. 3. 4. 5.]\n"
     ]
    }
   ],
   "source": [
    "#we can do the reverse too\n",
    "mt5 = np.array([1, 2, 3, 4, 5])\n",
    "print(mt5)\n",
    "mt6 = mt5.astype(np.float64)\n",
    "print(mt6)"
   ]
  },
  {
   "cell_type": "code",
   "execution_count": 13,
   "metadata": {},
   "outputs": [
    {
     "name": "stdout",
     "output_type": "stream",
     "text": [
      "[[ 1  2  3]\n",
      " [ 7  8  9]\n",
      " [15 38 43]]\n"
     ]
    }
   ],
   "source": [
    "# more than one dimension\n",
    "# create a two-dimensional array\n",
    "mt7 = np.array([[1, 2, 3],\n",
    "               [7, 8, 9],\n",
    "               [15, 38, 43]])\n",
    "print(mt7)"
   ]
  },
  {
   "cell_type": "code",
   "execution_count": 18,
   "metadata": {},
   "outputs": [
    {
     "name": "stdout",
     "output_type": "stream",
     "text": [
      "[[         0 1072693248]\n",
      " [         0 1074266112]\n",
      " [         0 1074790400]]\n",
      "-----------------\n",
      "[[0. 0. 0.]\n",
      " [0. 0. 0.]\n",
      " [0. 0. 0.]\n",
      " [0. 0. 0.]]\n",
      "-----------------\n",
      "[[1. 1. 1.]\n",
      " [1. 1. 1.]\n",
      " [1. 1. 1.]\n",
      " [1. 1. 1.]]\n",
      "-----------------\n",
      "[[1. 0. 0. 0. 0.]\n",
      " [0. 1. 0. 0. 0.]\n",
      " [0. 0. 1. 0. 0.]\n",
      " [0. 0. 0. 1. 0.]\n",
      " [0. 0. 0. 0. 1.]]\n"
     ]
    }
   ],
   "source": [
    "#create typed empty arrays\n",
    "#empty means uninitialized, not empty\n",
    "empty = np.empty([3,2],dtype = int)\n",
    "print(empty)\n",
    "print(\"-----------------\")\n",
    "\n",
    "#create a 4x3 matrix with zero values\n",
    "zeros = np.zeros([4,3])\n",
    "print(zeros)\n",
    "print(\"-----------------\")\n",
    "\n",
    "#with values equal to one\n",
    "ones = np.ones([4,3])\n",
    "print(ones)\n",
    "print(\"-----------------\")\n",
    "\n",
    "#create square matrix with main diagonal with values 1 and the other values zero\n",
    "diagonal = np.eye(5)\n",
    "print(diagonal)"
   ]
  },
  {
   "cell_type": "code",
   "execution_count": 57,
   "metadata": {},
   "outputs": [
    {
     "name": "stdout",
     "output_type": "stream",
     "text": [
      "[0.55339968 0.69068039 0.2668321  0.12284469 0.44737347]\n",
      "-----------------\n",
      "[-0.19406561 -0.76316812  1.01067308  0.04661598  0.84661175]\n",
      "-----------------\n",
      "[[0.59031313 0.0276342  0.33937053 2.47316417]\n",
      " [8.00347228 2.76973877 8.96192359 5.5326496 ]\n",
      " [8.81799466 8.55140031 1.32880004 3.7399077 ]]\n"
     ]
    }
   ],
   "source": [
    "#random values between 0 and 1\n",
    "rnd = np.random.random((5))\n",
    "print(rnd)\n",
    "print(\"-----------------\")\n",
    "\n",
    "#random values normal distribution with negatives numbers\n",
    "rnd2 = np.random.randn((5))\n",
    "print(rnd2)\n",
    "print(\"-----------------\")\n",
    "\n",
    "#random values 3x4\n",
    "rnd3 = (10*np.random.random((3,4)))\n",
    "print(rnd3)"
   ]
  },
  {
   "cell_type": "code",
   "execution_count": 61,
   "metadata": {},
   "outputs": [
    {
     "name": "stdout",
     "output_type": "stream",
     "text": [
      "[0.51182162 0.9504637  0.14415961]\n",
      "[[8 9 2 3]\n",
      " [8 4 2 8]\n",
      " [2 4 6 5]]\n"
     ]
    }
   ],
   "source": [
    "#another way to generate random numbers\n",
    "#seed use\n",
    "gnr = np.random.default_rng(1)\n",
    "rnd4 = gnr.random (3)\n",
    "print(rnd4)\n",
    "\n",
    "#generate integers\n",
    "rnd5 = gnr.integers(10, size=(3,4))\n",
    "print(rnd5)"
   ]
  },
  {
   "cell_type": "code",
   "execution_count": 63,
   "metadata": {},
   "outputs": [
    {
     "name": "stdout",
     "output_type": "stream",
     "text": [
      "[  1   2   9  11  12  13  14  15  22 145]\n"
     ]
    }
   ],
   "source": [
    "#unique removes repetitions\n",
    "j = np.array([11, 12, 9, 9, 15, 14, 14, 13, 13, 1, 1, 1, 13, 22, 22, 145, 145, 1, 2])\n",
    "j = np.unique(j)\n",
    "print(j)"
   ]
  },
  {
   "cell_type": "code",
   "execution_count": 64,
   "metadata": {},
   "outputs": [
    {
     "name": "stdout",
     "output_type": "stream",
     "text": [
      "[[ 1  5 45]\n",
      " [ 2 10 90]\n",
      " [ 8 40 21]]\n",
      "45\n",
      "(3, 3)\n"
     ]
    }
   ],
   "source": [
    "#specific functions\n",
    "#creates a two-dimensional array named as k\n",
    "k = np.array([[1, 5, 45],\n",
    "              [2, 10, 90],\n",
    "              [8, 40, 21]])\n",
    "\n",
    "#shows k\n",
    "print(k)\n",
    "\n",
    "#shows an specific element from k\n",
    "print(k[0][2])\n",
    "\n",
    "#shows k dimensions\n",
    "print(k.shape)"
   ]
  },
  {
   "cell_type": "code",
   "execution_count": 65,
   "metadata": {},
   "outputs": [
    {
     "name": "stdout",
     "output_type": "stream",
     "text": [
      "90\n",
      "1\n",
      "222\n",
      "24.666666666666668\n",
      "27.656624683588717\n"
     ]
    }
   ],
   "source": [
    "#mathematical functions\n",
    "#Shows the largest value of array k\n",
    "print(k.max())\n",
    "\n",
    "#shows the lower value \n",
    "print(k.min())\n",
    "\n",
    "#sum the values \n",
    "print(k.sum())\n",
    "\n",
    "#average between the values\n",
    "print(k.mean())\n",
    "\n",
    "#standard deviation\n",
    "print(k.std())"
   ]
  },
  {
   "cell_type": "code",
   "execution_count": 70,
   "metadata": {},
   "outputs": [
    {
     "name": "stdout",
     "output_type": "stream",
     "text": [
      "[1. 2. 3. 4. 5. 6.]\n",
      "[2.71828183e+00 5.45981500e+01 8.10308393e+03 8.88611052e+06\n",
      " 7.20048993e+10 4.31123155e+15]\n"
     ]
    }
   ],
   "source": [
    "#universal functions, applied to all elements\n",
    "#shows the square root of all elements \n",
    "k1 = np.array([1, 4, 9, 16, 25, 36])\n",
    "print(np.sqrt(k1))\n",
    "\n",
    "#exponential values of all elements\n",
    "print(np.exp(k1))"
   ]
  },
  {
   "cell_type": "code",
   "execution_count": 72,
   "metadata": {},
   "outputs": [
    {
     "name": "stdout",
     "output_type": "stream",
     "text": [
      "2\n",
      "--------\n",
      "[1 2]\n",
      "--------\n",
      "[2 3 4 5 6]\n",
      "--------\n",
      "[4 5 6]\n"
     ]
    }
   ],
   "source": [
    "#extraction of elements\n",
    "m = np.array([1, 2, 3, 4, 5, 6])\n",
    "\n",
    "#shows the second postions element\n",
    "print(m[1])\n",
    "print(\"--------\")\n",
    "\n",
    "#shows position 0 and 1, two elements\n",
    "print(m[0:2])\n",
    "print(\"--------\")\n",
    "\n",
    "#shows the index 1 forward\n",
    "print(m[1:])\n",
    "print(\"--------\")\n",
    "\n",
    "#shows the penultimate position to the end\n",
    "print(m[-3:])"
   ]
  },
  {
   "cell_type": "code",
   "execution_count": 80,
   "metadata": {},
   "outputs": [
    {
     "name": "stdout",
     "output_type": "stream",
     "text": [
      "[[4 5]\n",
      " [6 1]\n",
      " [7 4]]\n",
      "-------\n",
      "[4 5]\n",
      "-------\n",
      "[6 1]\n",
      "-------\n",
      "[7 4]\n",
      "-------\n",
      "[4 6 7]\n",
      "-------\n",
      "[5 1 4]\n",
      "-------\n"
     ]
    }
   ],
   "source": [
    "#columns and rows extraction\n",
    "x = np.array([[4, 5], [6, 1], [7, 4]])\n",
    "print(x)\n",
    "print(\"-------\")\n",
    "\n",
    "#first row, all columns \n",
    "row1 = x[0, :]\n",
    "print(row1)\n",
    "print(\"-------\")\n",
    "\n",
    "#second row\n",
    "row2 = x[1, :]\n",
    "print(row2)\n",
    "print(\"-------\")\n",
    "\n",
    "#third row\n",
    "row3 = x[2, :]\n",
    "print(row3)\n",
    "print(\"-------\")\n",
    "\n",
    "#all rows, first column\n",
    "c1 = x[ :, 0]\n",
    "print(c1)\n",
    "print(\"-------\")\n",
    "\n",
    "#second column\n",
    "c2 = x[ :, 1]\n",
    "print(c2)\n",
    "print(\"-------\")\n"
   ]
  },
  {
   "cell_type": "code",
   "execution_count": 84,
   "metadata": {},
   "outputs": [
    {
     "name": "stdout",
     "output_type": "stream",
     "text": [
      "[[2 3]\n",
      " [4 5]]\n",
      "-------\n",
      "[[1 2]\n",
      " [3 4]]\n",
      "-------\n",
      "[[3 3]\n",
      " [5 5]\n",
      " [7 7]]\n"
     ]
    }
   ],
   "source": [
    "n = np.array([[1, 2],\n",
    "              [3, 4]])\n",
    "m = np.array([[1, 1],\n",
    "              [1, 1]])\n",
    "\n",
    "#addition \n",
    "a = n + m\n",
    "print(a)\n",
    "print(\"-------\")\n",
    "\n",
    "#multiplication\n",
    "b = n * m\n",
    "print(b)\n",
    "print(\"-------\")\n",
    "\n",
    "p = np.array([[1, 2], [3, 4], [5, 6]])\n",
    "q = np.array([[2, 1]])\n",
    "print(p+q)"
   ]
  },
  {
   "cell_type": "code",
   "execution_count": 89,
   "metadata": {},
   "outputs": [
    {
     "name": "stdout",
     "output_type": "stream",
     "text": [
      "[[ 0  1  2  3  4]\n",
      " [ 5  6  7  8  9]\n",
      " [10 11 12 13 14]]\n",
      "-------\n",
      "[[ 0  5 10]\n",
      " [ 1  6 11]\n",
      " [ 2  7 12]\n",
      " [ 3  8 13]\n",
      " [ 4  9 14]]\n",
      "-------\n",
      "[[ 0  1  2  3  4]\n",
      " [ 5  6  7  8  9]\n",
      " [10 11 12 13 14]]\n",
      "-------\n",
      "[[ 0  5 10]\n",
      " [ 1  6 11]\n",
      " [ 2  7 12]\n",
      " [ 3  8 13]\n",
      " [ 4  9 14]]\n"
     ]
    }
   ],
   "source": [
    "# transpose, rearranges a set of 15 elements from 0 to 14\n",
    "# in 3 rows and 5 columns.\n",
    "f = np.arange(15).reshape((3,5))\n",
    "print(f)\n",
    "print(\"-------\")\n",
    "\n",
    "#transposed matrix\n",
    "s = f.T\n",
    "print(s)\n",
    "print(\"-------\")\n",
    "\n",
    "#another way to do the same thing\n",
    "r = np.arange(15).reshape((3, 5))\n",
    "print(r)\n",
    "print(\"-------\")\n",
    "s = r.transpose((1,0))\n",
    "print(s)\n"
   ]
  },
  {
   "cell_type": "code",
   "execution_count": 124,
   "metadata": {},
   "outputs": [
    {
     "name": "stdout",
     "output_type": "stream",
     "text": [
      "[[-0.83390957  0.3817686  -0.04498323 -0.57173716]\n",
      " [ 0.18279954  0.47703078 -1.04513877  0.86705066]\n",
      " [-0.37615438 -1.26532927 -0.40655895  0.76972168]\n",
      " [ 0.13170243  2.26665321 -0.92759991 -0.18538075]]\n",
      "[[False  True False False]\n",
      " [ True  True False  True]\n",
      " [False False False  True]\n",
      " [ True  True False False]]\n",
      "[[-1  1 -1 -1]\n",
      " [ 1  1 -1  1]\n",
      " [-1 -1 -1  1]\n",
      " [ 1  1 -1 -1]]\n"
     ]
    }
   ],
   "source": [
    "#logical expressions using WHERE\n",
    "v = np.random.randn(4, 4)\n",
    "print(v)\n",
    "\n",
    "#creating a boolean values matrix based on array v\n",
    "y = (v > 0)\n",
    "print(y)\n",
    "\n",
    "#creating a matrix with values -1 and 1 based on array z\n",
    "z = np.where(y > 0, 1, -1)\n",
    "print(z)"
   ]
  }
 ],
 "metadata": {
  "kernelspec": {
   "display_name": "Python 3",
   "language": "python",
   "name": "python3"
  },
  "language_info": {
   "codemirror_mode": {
    "name": "ipython",
    "version": 3
   },
   "file_extension": ".py",
   "mimetype": "text/x-python",
   "name": "python",
   "nbconvert_exporter": "python",
   "pygments_lexer": "ipython3",
   "version": "3.11.5"
  },
  "orig_nbformat": 4
 },
 "nbformat": 4,
 "nbformat_minor": 2
}
