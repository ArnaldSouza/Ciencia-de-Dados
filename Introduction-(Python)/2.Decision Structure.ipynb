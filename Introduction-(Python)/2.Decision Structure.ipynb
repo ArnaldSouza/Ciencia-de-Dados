{
 "cells": [
  {
   "cell_type": "code",
   "execution_count": 1,
   "metadata": {},
   "outputs": [
    {
     "name": "stdout",
     "output_type": "stream",
     "text": [
      "Approved!\n",
      "Congratulations!\n"
     ]
    }
   ],
   "source": [
    "grade = 7\n",
    "if grade >= 7:\n",
    "\tprint(\"Approved!\")\n",
    "\tprint(\"Congratulations!\")\n",
    "else:\n",
    "\tprint(\"Repproved\")\n",
    "\tprint(\"Try Again!\")"
   ]
  },
  {
   "cell_type": "code",
   "execution_count": 2,
   "metadata": {},
   "outputs": [
    {
     "name": "stdout",
     "output_type": "stream",
     "text": [
      "Repproved\n"
     ]
    }
   ],
   "source": [
    "#just change the value of the variable\n",
    "nota = 5\n",
    "if nota >= 7:\n",
    "\tprint(\"Approved!\")\n",
    "else:\n",
    "\tprint(\"Repproved\")"
   ]
  },
  {
   "cell_type": "code",
   "execution_count": 3,
   "metadata": {},
   "outputs": [
    {
     "name": "stdout",
     "output_type": "stream",
     "text": [
      "Repproved\n"
     ]
    }
   ],
   "source": [
    "#Test with 4,5 e 7\n",
    "nota = 3.1\n",
    "if nota <= 4:\n",
    "\tprint(\"Repproved\")\n",
    "elif nota > 4 and nota <=6:\n",
    "\tprint(\"retake test\")\n",
    "else:\n",
    "\tprint(\"Approved!\")\n"
   ]
  },
  {
   "cell_type": "code",
   "execution_count": null,
   "metadata": {},
   "outputs": [],
   "source": []
  }
 ],
 "metadata": {
  "kernelspec": {
   "display_name": "Python 3",
   "language": "python",
   "name": "python3"
  },
  "language_info": {
   "codemirror_mode": {
    "name": "ipython",
    "version": 3
   },
   "file_extension": ".py",
   "mimetype": "text/x-python",
   "name": "python",
   "nbconvert_exporter": "python",
   "pygments_lexer": "ipython3",
   "version": "3.11.3"
  }
 },
 "nbformat": 4,
 "nbformat_minor": 4
}
