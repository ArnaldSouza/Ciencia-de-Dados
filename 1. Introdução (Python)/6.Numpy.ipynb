{
 "cells": [
  {
   "cell_type": "code",
   "execution_count": 2,
   "metadata": {},
   "outputs": [],
   "source": [
    "import numpy as np"
   ]
  },
  {
   "cell_type": "code",
   "execution_count": 3,
   "metadata": {},
   "outputs": [
    {
     "name": "stdout",
     "output_type": "stream",
     "text": [
      "[15 35 25 10  5]\n",
      "<class 'numpy.ndarray'>\n"
     ]
    }
   ],
   "source": [
    "#cria uma matriz unidimensional\n",
    "mt = np.array([15,35,25,10,5])\n",
    "print(mt)\n",
    "print(type(mt))"
   ]
  },
  {
   "cell_type": "code",
   "execution_count": 6,
   "metadata": {},
   "outputs": [
    {
     "name": "stdout",
     "output_type": "stream",
     "text": [
      "[1. 3. 4.]\n",
      "<class 'numpy.ndarray'>\n",
      "[2 3 8]\n",
      "<class 'numpy.ndarray'>\n"
     ]
    }
   ],
   "source": [
    "#cria o array com um tipo específico\n",
    "#cria um array como um float 64-bit\n",
    "mtfloat = np.array([1,3,4],dtype=np.float64)\n",
    "print(mtfloat)\n",
    "print(type(mtfloat))\n",
    "\n",
    "#cria um array como um int 32-bit\n",
    "mtint = np.array([2,3,8],dtype=np.int32)\n",
    "print(mtint)\n",
    "print(type(mtint))\n"
   ]
  },
  {
   "cell_type": "code",
   "execution_count": 5,
   "metadata": {},
   "outputs": [
    {
     "name": "stdout",
     "output_type": "stream",
     "text": [
      "[ 1.4      5.8     -5.9     45.98     3.99999]\n",
      "[ 1  5 -5 45  3]\n"
     ]
    }
   ],
   "source": [
    "#muda o tipo do array\n",
    "#pode-se transformar o tipo de dados do arraywe can transform array data types\n",
    "mtnew = np.array([1.4, 5.8, -5.9, 45.98, 3.99999])\n",
    "print(mtnew)\n",
    "\n",
    "#quando transforma o valor de float para int os valores são truncados\n",
    "mtnewint = mtnew.astype(np.int32)\n",
    "print(mtnewint)"
   ]
  },
  {
   "cell_type": "code",
   "execution_count": 6,
   "metadata": {},
   "outputs": [
    {
     "name": "stdout",
     "output_type": "stream",
     "text": [
      "[1 2 3 4 5]\n",
      "[1. 2. 3. 4. 5.]\n"
     ]
    }
   ],
   "source": [
    "#pode-se fazer ao contrário também\n",
    "mt5 = np.array([1, 2, 3, 4, 5])\n",
    "print(mt5)\n",
    "mt6 = mt5.astype(np.float64)\n",
    "print(mt6)"
   ]
  },
  {
   "cell_type": "code",
   "execution_count": 7,
   "metadata": {},
   "outputs": [
    {
     "name": "stdout",
     "output_type": "stream",
     "text": [
      "[[ 1  2  3]\n",
      " [ 7  8  9]\n",
      " [15 38 43]]\n"
     ]
    }
   ],
   "source": [
    "# mais de uma dimensão\n",
    "# cria uma array bidimensional\n",
    "mt7 = np.array([[1, 2, 3],\n",
    "               [7, 8, 9],\n",
    "               [15, 38, 43]])\n",
    "print(mt7)"
   ]
  },
  {
   "cell_type": "code",
   "execution_count": 13,
   "metadata": {},
   "outputs": [
    {
     "name": "stdout",
     "output_type": "stream",
     "text": [
      "[[ 1886745605 -1720556180]\n",
      " [ 1912602625         410]\n",
      " [      98418     8090112]]\n",
      "-----------------\n",
      "[[0. 0. 0.]\n",
      " [0. 0. 0.]\n",
      " [0. 0. 0.]\n",
      " [0. 0. 0.]]\n",
      "-----------------\n",
      "[[1. 1. 1.]\n",
      " [1. 1. 1.]\n",
      " [1. 1. 1.]\n",
      " [1. 1. 1.]]\n",
      "-----------------\n",
      "[[1. 0. 0. 0. 0.]\n",
      " [0. 1. 0. 0. 0.]\n",
      " [0. 0. 1. 0. 0.]\n",
      " [0. 0. 0. 1. 0.]\n",
      " [0. 0. 0. 0. 1.]]\n"
     ]
    }
   ],
   "source": [
    "#cria um array tipado vazio\n",
    "# vazio significa não inicilizado, não vazio\n",
    "empty = np.empty([3,2],dtype = int)\n",
    "print(empty)\n",
    "print(\"-----------------\")\n",
    "\n",
    "#cria uma matriz 4X3 com zeros\n",
    "zeros = np.zeros([4,3])\n",
    "print(zeros)\n",
    "print(\"-----------------\")\n",
    "\n",
    "#com valores igual a ume\n",
    "ones = np.ones([4,3])\n",
    "print(ones)\n",
    "print(\"-----------------\")\n",
    "\n",
    "#cria uma matriz quadrada com a diagona principal com valores igual a 1 e os outros valores igual a zero\n",
    "diagonal = np.eye(5)\n",
    "print(diagonal)"
   ]
  },
  {
   "cell_type": "code",
   "execution_count": 14,
   "metadata": {},
   "outputs": [
    {
     "name": "stdout",
     "output_type": "stream",
     "text": [
      "[0.23023511 0.60192028 0.98733124 0.25596658 0.12373208]\n",
      "-----------------\n",
      "[-1.80089216  0.25523357 -0.52495381  0.72547599 -2.51450543]\n",
      "-----------------\n",
      "[[0.49269447 9.49323138 7.99408344 7.30677932]\n",
      " [4.21611101 7.00853132 0.18064993 1.93497044]\n",
      " [1.41271112 5.83944102 8.67009998 4.50979278]]\n"
     ]
    }
   ],
   "source": [
    "#valores aleatórios entre 0 e 1\n",
    "rnd = np.random.random((5))\n",
    "print(rnd)\n",
    "print(\"-----------------\")\n",
    "\n",
    "#distribuição normal de valores com numeros negaticosrandom values normal distribution with negatives numbers\n",
    "rnd2 = np.random.randn((5))\n",
    "print(rnd2)\n",
    "print(\"-----------------\")\n",
    "\n",
    "#valores aleatorios 3X4\n",
    "rnd3 = (10*np.random.random((3,4)))\n",
    "print(rnd3)"
   ]
  },
  {
   "cell_type": "code",
   "execution_count": 15,
   "metadata": {},
   "outputs": [
    {
     "name": "stdout",
     "output_type": "stream",
     "text": [
      "[0.51182162 0.9504637  0.14415961]\n",
      "[[8 9 2 3]\n",
      " [8 4 2 8]\n",
      " [2 4 6 5]]\n"
     ]
    }
   ],
   "source": [
    "#outra maneira de gerar valores aleatoriosanother way to generate random numbers\n",
    "gnr = np.random.default_rng(1)\n",
    "rnd4 = gnr.random (3)\n",
    "print(rnd4)\n",
    "\n",
    "#gerar inteiros\n",
    "rnd5 = gnr.integers(10, size=(3,4))\n",
    "print(rnd5)"
   ]
  },
  {
   "cell_type": "code",
   "execution_count": 63,
   "metadata": {},
   "outputs": [
    {
     "name": "stdout",
     "output_type": "stream",
     "text": [
      "[  1   2   9  11  12  13  14  15  22 145]\n"
     ]
    }
   ],
   "source": [
    "#unique remove repetições\n",
    "j = np.array([11, 12, 9, 9, 15, 14, 14, 13, 13, 1, 1, 1, 13, 22, 22, 145, 145, 1, 2])\n",
    "j = np.unique(j)\n",
    "print(j)"
   ]
  },
  {
   "cell_type": "code",
   "execution_count": 16,
   "metadata": {},
   "outputs": [
    {
     "name": "stdout",
     "output_type": "stream",
     "text": [
      "[[ 1  5 45]\n",
      " [ 2 10 90]\n",
      " [ 8 40 21]]\n",
      "45\n",
      "(3, 3)\n"
     ]
    }
   ],
   "source": [
    "#funções especificas\n",
    "#cria um array bidimensional com o nome de k\n",
    "k = np.array([[1, 5, 45],\n",
    "              [2, 10, 90],\n",
    "              [8, 40, 21]])\n",
    "\n",
    "#mostra k\n",
    "print(k)\n",
    "\n",
    "#mostra um elemento específico de k\n",
    "print(k[0][2])\n",
    "\n",
    "#mostra a dimensão de k\n",
    "print(k.shape)"
   ]
  },
  {
   "cell_type": "code",
   "execution_count": 17,
   "metadata": {},
   "outputs": [
    {
     "name": "stdout",
     "output_type": "stream",
     "text": [
      "90\n",
      "1\n",
      "222\n",
      "24.666666666666668\n"
     ]
    }
   ],
   "source": [
    "#funções matemáticas\n",
    "#mostra o maior valor do array k\n",
    "print(k.max())\n",
    "\n",
    "#mostra o menor valor\n",
    "print(k.min())\n",
    "\n",
    "#soma os valores \n",
    "print(k.sum())\n",
    "\n",
    "#média dos valoresaverage between the values\n",
    "print(k.mean())\n",
    "\n",
    "#desvio padrão\n",
    "# print(k.std())"
   ]
  },
  {
   "cell_type": "code",
   "execution_count": 18,
   "metadata": {},
   "outputs": [
    {
     "name": "stdout",
     "output_type": "stream",
     "text": [
      "[1. 2. 3. 4. 5. 6.]\n",
      "[2.71828183e+00 5.45981500e+01 8.10308393e+03 8.88611052e+06\n",
      " 7.20048993e+10 4.31123155e+15]\n"
     ]
    }
   ],
   "source": [
    "#função universal , aplicada a todos os elementos\n",
    "#mostra a raiz quadrada de todos os elementos \n",
    "k1 = np.array([1, 4, 9, 16, 25, 36])\n",
    "print(np.sqrt(k1))\n",
    "\n",
    "#valore exponencial de todos elementos\n",
    "print(np.exp(k1))"
   ]
  },
  {
   "cell_type": "code",
   "execution_count": 19,
   "metadata": {},
   "outputs": [
    {
     "name": "stdout",
     "output_type": "stream",
     "text": [
      "2\n",
      "--------\n",
      "[1 2]\n",
      "--------\n",
      "[2 3 4 5 6]\n",
      "--------\n",
      "[4 5 6]\n"
     ]
    }
   ],
   "source": [
    "#extração de todos elementos\n",
    "m = np.array([1, 2, 3, 4, 5, 6])\n",
    "\n",
    "#mostra o elemento da segunda posição\n",
    "print(m[1])\n",
    "print(\"--------\")\n",
    "\n",
    "#mostra a posição entre 0 e 1, dois elementos\n",
    "print(m[0:2])\n",
    "print(\"--------\")\n",
    "\n",
    "#mostra a partir do index 1 para frente\n",
    "print(m[1:])\n",
    "print(\"--------\")\n",
    "\n",
    "#mostra a penultima sição até o fim\n",
    "print(m[-3:])"
   ]
  },
  {
   "cell_type": "code",
   "execution_count": 20,
   "metadata": {},
   "outputs": [
    {
     "name": "stdout",
     "output_type": "stream",
     "text": [
      "[[4 5]\n",
      " [6 1]\n",
      " [7 4]]\n",
      "-------\n",
      "[4 5]\n",
      "-------\n",
      "[6 1]\n",
      "-------\n",
      "[7 4]\n",
      "-------\n",
      "[4 6 7]\n",
      "-------\n",
      "[5 1 4]\n",
      "-------\n"
     ]
    }
   ],
   "source": [
    "#extrção de linhas e colunas\n",
    "x = np.array([[4, 5], [6, 1], [7, 4]])\n",
    "print(x)\n",
    "print(\"-------\")\n",
    "\n",
    "#primeira linha, todas as colunas \n",
    "row1 = x[0, :]\n",
    "print(row1)\n",
    "print(\"-------\")\n",
    "\n",
    "#segunda linha\n",
    "row2 = x[1, :]\n",
    "print(row2)\n",
    "print(\"-------\")\n",
    "\n",
    "#terceira linha\n",
    "row3 = x[2, :]\n",
    "print(row3)\n",
    "print(\"-------\")\n",
    "\n",
    "#todas linhas primeira coluna\n",
    "c1 = x[ :, 0]\n",
    "print(c1)\n",
    "print(\"-------\")\n",
    "\n",
    "#segnda coluna\n",
    "c2 = x[ :, 1]\n",
    "print(c2)\n",
    "print(\"-------\")\n"
   ]
  },
  {
   "cell_type": "code",
   "execution_count": 21,
   "metadata": {},
   "outputs": [
    {
     "name": "stdout",
     "output_type": "stream",
     "text": [
      "[[2 3]\n",
      " [4 5]]\n",
      "-------\n",
      "[[1 2]\n",
      " [3 4]]\n",
      "-------\n",
      "[[3 3]\n",
      " [5 5]\n",
      " [7 7]]\n"
     ]
    }
   ],
   "source": [
    "n = np.array([[1, 2],\n",
    "              [3, 4]])\n",
    "m = np.array([[1, 1],\n",
    "              [1, 1]])\n",
    "\n",
    "#adição\n",
    "a = n + m\n",
    "print(a)\n",
    "print(\"-------\")\n",
    "\n",
    "#multiplicação\n",
    "b = n * m\n",
    "print(b)\n",
    "print(\"-------\")\n",
    "\n",
    "p = np.array([[1, 2], [3, 4], [5, 6]])\n",
    "q = np.array([[2, 1]])\n",
    "print(p+q)"
   ]
  },
  {
   "cell_type": "code",
   "execution_count": 22,
   "metadata": {},
   "outputs": [
    {
     "name": "stdout",
     "output_type": "stream",
     "text": [
      "[[ 0  1  2  3  4]\n",
      " [ 5  6  7  8  9]\n",
      " [10 11 12 13 14]]\n",
      "-------\n",
      "[[ 0  5 10]\n",
      " [ 1  6 11]\n",
      " [ 2  7 12]\n",
      " [ 3  8 13]\n",
      " [ 4  9 14]]\n",
      "-------\n",
      "[[ 0  1  2  3  4]\n",
      " [ 5  6  7  8  9]\n",
      " [10 11 12 13 14]]\n",
      "-------\n",
      "[[ 0  5 10]\n",
      " [ 1  6 11]\n",
      " [ 2  7 12]\n",
      " [ 3  8 13]\n",
      " [ 4  9 14]]\n"
     ]
    }
   ],
   "source": [
    "# traposição, rearranja os 15 elemento de 0 a 14 em 3 linhas e 5 colunas\n",
    "f = np.arange(15).reshape((3,5))\n",
    "print(f)\n",
    "print(\"-------\")\n",
    "\n",
    "#matriz transposta\n",
    "s = f.T\n",
    "print(s)\n",
    "print(\"-------\")\n",
    "\n",
    "#outra maneira de fazer a transposição\n",
    "r = np.arange(15).reshape((3, 5))\n",
    "print(r)\n",
    "print(\"-------\")\n",
    "s = r.transpose((1,0))\n",
    "print(s)\n"
   ]
  },
  {
   "cell_type": "code",
   "execution_count": 23,
   "metadata": {},
   "outputs": [
    {
     "name": "stdout",
     "output_type": "stream",
     "text": [
      "[[ 5.35665125e-02  4.23432728e-01 -1.68308842e+00 -1.81249421e+00]\n",
      " [ 4.59588113e-01  8.36807484e-01 -2.03025996e-03 -3.13197750e-01]\n",
      " [ 1.61613598e-02 -2.83947551e-01  9.20414090e-01  6.22111806e-01]\n",
      " [ 4.33058393e-01 -3.15222350e-01 -7.82865118e-02 -2.41961857e+00]]\n",
      "[[ True  True False False]\n",
      " [ True  True False False]\n",
      " [ True False  True  True]\n",
      " [ True False False False]]\n",
      "[[ 1  1 -1 -1]\n",
      " [ 1  1 -1 -1]\n",
      " [ 1 -1  1  1]\n",
      " [ 1 -1 -1 -1]]\n"
     ]
    }
   ],
   "source": [
    "#expressão logica usando where\n",
    "v = np.random.randn(4, 4)\n",
    "print(v)\n",
    "\n",
    "#criando uma matriz de valor booleano baseado no array v\n",
    "y = (v > 0)\n",
    "print(y)\n",
    "\n",
    "#criando uma matriz com valores -1 e 1 baseado no array z\n",
    "z = np.where(y > 0, 1, -1)\n",
    "print(z)"
   ]
  }
 ],
 "metadata": {
  "kernelspec": {
   "display_name": "Python 3",
   "language": "python",
   "name": "python3"
  },
  "language_info": {
   "codemirror_mode": {
    "name": "ipython",
    "version": 3
   },
   "file_extension": ".py",
   "mimetype": "text/x-python",
   "name": "python",
   "nbconvert_exporter": "python",
   "pygments_lexer": "ipython3",
   "version": "3.11.7"
  },
  "orig_nbformat": 4
 },
 "nbformat": 4,
 "nbformat_minor": 2
}
